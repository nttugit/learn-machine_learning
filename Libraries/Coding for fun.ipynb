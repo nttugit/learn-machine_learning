{
 "cells": [
  {
   "cell_type": "markdown",
   "id": "4fb4f7d4",
   "metadata": {},
   "source": [
    "## Quick sort"
   ]
  },
  {
   "cell_type": "code",
   "execution_count": 32,
   "id": "6010ef1d",
   "metadata": {},
   "outputs": [
    {
     "data": {
      "text/plain": [
       "[5, 2, 9, 3, 6, 8, 1]"
      ]
     },
     "execution_count": 32,
     "metadata": {},
     "output_type": "execute_result"
    }
   ],
   "source": [
    "arr = [5, 2, 9, 3, 6, 8, 1]\n",
    "arr"
   ]
  },
  {
   "cell_type": "code",
   "execution_count": 33,
   "id": "3d036eed",
   "metadata": {},
   "outputs": [
    {
     "name": "stdout",
     "output_type": "stream",
     "text": [
      "[32]\n",
      "[1, 2, 3, 5, 6, 8, 9]\n"
     ]
    }
   ],
   "source": [
    "def quick_sort(arr):\n",
    "    if len(arr) <= 1:\n",
    "        return arr\n",
    "    else:\n",
    "        pivot = arr[0]\n",
    "        left = [x for x in arr[1:] if x <= pivot]\n",
    "        right = [x for x in arr[1:] if x > pivot]\n",
    "        return quick_sort(left) + [pivot] + quick_sort(right)\n",
    "print(quick_sort([32]))\n",
    "print(quick_sort(arr))"
   ]
  }
 ],
 "metadata": {
  "kernelspec": {
   "display_name": "Python 3 (ipykernel)",
   "language": "python",
   "name": "python3"
  },
  "language_info": {
   "codemirror_mode": {
    "name": "ipython",
    "version": 3
   },
   "file_extension": ".py",
   "mimetype": "text/x-python",
   "name": "python",
   "nbconvert_exporter": "python",
   "pygments_lexer": "ipython3",
   "version": "3.9.13"
  }
 },
 "nbformat": 4,
 "nbformat_minor": 5
}
